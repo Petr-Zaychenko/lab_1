{
 "cells": [
  {
   "cell_type": "markdown",
   "id": "aedf67cf",
   "metadata": {},
   "source": [
    "# Настройка и первые шаги\n"
   ]
  },
  {
   "cell_type": "code",
   "execution_count": 1,
   "id": "0c8a9131",
   "metadata": {},
   "outputs": [
    {
     "name": "stdout",
     "output_type": "stream",
     "text": [
      "Collecting xgboost\n",
      "  Using cached xgboost-3.0.0-py3-none-win_amd64.whl.metadata (2.1 kB)\n",
      "Collecting scikit-learn\n",
      "  Using cached scikit_learn-1.6.1-cp311-cp311-win_amd64.whl.metadata (15 kB)\n",
      "Collecting joblib\n",
      "  Using cached joblib-1.5.0-py3-none-any.whl.metadata (5.6 kB)\n",
      "Collecting pandas\n",
      "  Using cached pandas-2.2.3-cp311-cp311-win_amd64.whl.metadata (19 kB)\n",
      "Collecting numpy\n",
      "  Using cached numpy-2.2.5-cp311-cp311-win_amd64.whl.metadata (60 kB)\n",
      "Collecting fastapi\n",
      "  Using cached fastapi-0.115.12-py3-none-any.whl.metadata (27 kB)\n",
      "Collecting uvicorn\n",
      "  Using cached uvicorn-0.34.2-py3-none-any.whl.metadata (6.5 kB)\n",
      "Collecting pyngrok\n",
      "  Using cached pyngrok-7.2.5-py3-none-any.whl.metadata (8.9 kB)\n",
      "Collecting scipy (from xgboost)\n",
      "  Using cached scipy-1.15.2-cp311-cp311-win_amd64.whl.metadata (60 kB)\n",
      "Collecting threadpoolctl>=3.1.0 (from scikit-learn)\n",
      "  Using cached threadpoolctl-3.6.0-py3-none-any.whl.metadata (13 kB)\n",
      "Requirement already satisfied: python-dateutil>=2.8.2 in .\\venv\\lib\\site-packages (from pandas) (2.9.0.post0)\n",
      "Collecting pytz>=2020.1 (from pandas)\n",
      "  Using cached pytz-2025.2-py2.py3-none-any.whl.metadata (22 kB)\n",
      "Collecting tzdata>=2022.7 (from pandas)\n",
      "  Using cached tzdata-2025.2-py2.py3-none-any.whl.metadata (1.4 kB)\n",
      "Collecting starlette<0.47.0,>=0.40.0 (from fastapi)\n",
      "  Using cached starlette-0.46.2-py3-none-any.whl.metadata (6.2 kB)\n",
      "Collecting pydantic!=1.8,!=1.8.1,!=2.0.0,!=2.0.1,!=2.1.0,<3.0.0,>=1.7.4 (from fastapi)\n",
      "  Using cached pydantic-2.11.4-py3-none-any.whl.metadata (66 kB)\n",
      "Requirement already satisfied: typing-extensions>=4.8.0 in .\\venv\\lib\\site-packages (from fastapi) (4.13.2)\n",
      "Collecting click>=7.0 (from uvicorn)\n",
      "  Using cached click-8.1.8-py3-none-any.whl.metadata (2.3 kB)\n",
      "Collecting h11>=0.8 (from uvicorn)\n",
      "  Using cached h11-0.16.0-py3-none-any.whl.metadata (8.3 kB)\n",
      "Collecting PyYAML>=5.1 (from pyngrok)\n",
      "  Using cached PyYAML-6.0.2-cp311-cp311-win_amd64.whl.metadata (2.1 kB)\n",
      "Requirement already satisfied: colorama in .\\venv\\lib\\site-packages (from click>=7.0->uvicorn) (0.4.6)\n",
      "Collecting annotated-types>=0.6.0 (from pydantic!=1.8,!=1.8.1,!=2.0.0,!=2.0.1,!=2.1.0,<3.0.0,>=1.7.4->fastapi)\n",
      "  Using cached annotated_types-0.7.0-py3-none-any.whl.metadata (15 kB)\n",
      "Collecting pydantic-core==2.33.2 (from pydantic!=1.8,!=1.8.1,!=2.0.0,!=2.0.1,!=2.1.0,<3.0.0,>=1.7.4->fastapi)\n",
      "  Using cached pydantic_core-2.33.2-cp311-cp311-win_amd64.whl.metadata (6.9 kB)\n",
      "Collecting typing-inspection>=0.4.0 (from pydantic!=1.8,!=1.8.1,!=2.0.0,!=2.0.1,!=2.1.0,<3.0.0,>=1.7.4->fastapi)\n",
      "  Using cached typing_inspection-0.4.0-py3-none-any.whl.metadata (2.6 kB)\n",
      "Requirement already satisfied: six>=1.5 in .\\venv\\lib\\site-packages (from python-dateutil>=2.8.2->pandas) (1.17.0)\n",
      "Collecting anyio<5,>=3.6.2 (from starlette<0.47.0,>=0.40.0->fastapi)\n",
      "  Using cached anyio-4.9.0-py3-none-any.whl.metadata (4.7 kB)\n",
      "Collecting idna>=2.8 (from anyio<5,>=3.6.2->starlette<0.47.0,>=0.40.0->fastapi)\n",
      "  Using cached idna-3.10-py3-none-any.whl.metadata (10 kB)\n",
      "Collecting sniffio>=1.1 (from anyio<5,>=3.6.2->starlette<0.47.0,>=0.40.0->fastapi)\n",
      "  Using cached sniffio-1.3.1-py3-none-any.whl.metadata (3.9 kB)\n",
      "Using cached xgboost-3.0.0-py3-none-win_amd64.whl (150.0 MB)\n",
      "Using cached scikit_learn-1.6.1-cp311-cp311-win_amd64.whl (11.1 MB)\n",
      "Using cached joblib-1.5.0-py3-none-any.whl (307 kB)\n",
      "Using cached pandas-2.2.3-cp311-cp311-win_amd64.whl (11.6 MB)\n",
      "Using cached numpy-2.2.5-cp311-cp311-win_amd64.whl (12.9 MB)\n",
      "Using cached fastapi-0.115.12-py3-none-any.whl (95 kB)\n",
      "Using cached uvicorn-0.34.2-py3-none-any.whl (62 kB)\n",
      "Using cached pyngrok-7.2.5-py3-none-any.whl (23 kB)\n",
      "Using cached click-8.1.8-py3-none-any.whl (98 kB)\n",
      "Using cached h11-0.16.0-py3-none-any.whl (37 kB)\n",
      "Using cached pydantic-2.11.4-py3-none-any.whl (443 kB)\n",
      "Using cached pydantic_core-2.33.2-cp311-cp311-win_amd64.whl (2.0 MB)\n",
      "Using cached pytz-2025.2-py2.py3-none-any.whl (509 kB)\n",
      "Using cached PyYAML-6.0.2-cp311-cp311-win_amd64.whl (161 kB)\n",
      "Using cached scipy-1.15.2-cp311-cp311-win_amd64.whl (41.2 MB)\n",
      "Using cached starlette-0.46.2-py3-none-any.whl (72 kB)\n",
      "Using cached threadpoolctl-3.6.0-py3-none-any.whl (18 kB)\n",
      "Using cached tzdata-2025.2-py2.py3-none-any.whl (347 kB)\n",
      "Using cached annotated_types-0.7.0-py3-none-any.whl (13 kB)\n",
      "Using cached anyio-4.9.0-py3-none-any.whl (100 kB)\n",
      "Using cached typing_inspection-0.4.0-py3-none-any.whl (14 kB)\n",
      "Using cached idna-3.10-py3-none-any.whl (70 kB)\n",
      "Using cached sniffio-1.3.1-py3-none-any.whl (10 kB)\n",
      "Installing collected packages: pytz, tzdata, typing-inspection, threadpoolctl, sniffio, PyYAML, pydantic-core, numpy, joblib, idna, h11, click, annotated-types, uvicorn, scipy, pyngrok, pydantic, pandas, anyio, xgboost, starlette, scikit-learn, fastapi\n",
      "Successfully installed PyYAML-6.0.2 annotated-types-0.7.0 anyio-4.9.0 click-8.1.8 fastapi-0.115.12 h11-0.16.0 idna-3.10 joblib-1.5.0 numpy-2.2.5 pandas-2.2.3 pydantic-2.11.4 pydantic-core-2.33.2 pyngrok-7.2.5 pytz-2025.2 scikit-learn-1.6.1 scipy-1.15.2 sniffio-1.3.1 starlette-0.46.2 threadpoolctl-3.6.0 typing-inspection-0.4.0 tzdata-2025.2 uvicorn-0.34.2 xgboost-3.0.0\n",
      "Note: you may need to restart the kernel to use updated packages.\n"
     ]
    },
    {
     "name": "stderr",
     "output_type": "stream",
     "text": [
      "\n",
      "[notice] A new release of pip is available: 24.0 -> 25.1.1\n",
      "[notice] To update, run: python.exe -m pip install --upgrade pip\n"
     ]
    }
   ],
   "source": [
    "%pip install xgboost scikit-learn joblib pandas numpy fastapi uvicorn pyngrok"
   ]
  },
  {
   "cell_type": "code",
   "execution_count": 3,
   "id": "e619a6b3",
   "metadata": {},
   "outputs": [
    {
     "data": {
      "text/html": [
       "<div>\n",
       "<style scoped>\n",
       "    .dataframe tbody tr th:only-of-type {\n",
       "        vertical-align: middle;\n",
       "    }\n",
       "\n",
       "    .dataframe tbody tr th {\n",
       "        vertical-align: top;\n",
       "    }\n",
       "\n",
       "    .dataframe thead th {\n",
       "        text-align: right;\n",
       "    }\n",
       "</style>\n",
       "<table border=\"1\" class=\"dataframe\">\n",
       "  <thead>\n",
       "    <tr style=\"text-align: right;\">\n",
       "      <th></th>\n",
       "      <th>Brand</th>\n",
       "      <th>Processor_Speed</th>\n",
       "      <th>RAM_Size</th>\n",
       "      <th>Storage_Capacity</th>\n",
       "      <th>Screen_Size</th>\n",
       "      <th>Weight</th>\n",
       "      <th>Price</th>\n",
       "    </tr>\n",
       "  </thead>\n",
       "  <tbody>\n",
       "    <tr>\n",
       "      <th>0</th>\n",
       "      <td>Asus</td>\n",
       "      <td>3.830296</td>\n",
       "      <td>16</td>\n",
       "      <td>512</td>\n",
       "      <td>11.185147</td>\n",
       "      <td>2.641094</td>\n",
       "      <td>17395.093065</td>\n",
       "    </tr>\n",
       "    <tr>\n",
       "      <th>1</th>\n",
       "      <td>Acer</td>\n",
       "      <td>2.912833</td>\n",
       "      <td>4</td>\n",
       "      <td>1000</td>\n",
       "      <td>11.311372</td>\n",
       "      <td>3.260012</td>\n",
       "      <td>31607.605919</td>\n",
       "    </tr>\n",
       "    <tr>\n",
       "      <th>2</th>\n",
       "      <td>Lenovo</td>\n",
       "      <td>3.241627</td>\n",
       "      <td>4</td>\n",
       "      <td>256</td>\n",
       "      <td>11.853023</td>\n",
       "      <td>2.029061</td>\n",
       "      <td>9291.023542</td>\n",
       "    </tr>\n",
       "    <tr>\n",
       "      <th>3</th>\n",
       "      <td>Acer</td>\n",
       "      <td>3.806248</td>\n",
       "      <td>16</td>\n",
       "      <td>512</td>\n",
       "      <td>12.280360</td>\n",
       "      <td>4.573865</td>\n",
       "      <td>17436.728334</td>\n",
       "    </tr>\n",
       "    <tr>\n",
       "      <th>4</th>\n",
       "      <td>Acer</td>\n",
       "      <td>3.268097</td>\n",
       "      <td>32</td>\n",
       "      <td>1000</td>\n",
       "      <td>14.990877</td>\n",
       "      <td>4.193472</td>\n",
       "      <td>32917.990718</td>\n",
       "    </tr>\n",
       "  </tbody>\n",
       "</table>\n",
       "</div>"
      ],
      "text/plain": [
       "    Brand  Processor_Speed  RAM_Size  Storage_Capacity  Screen_Size    Weight  \\\n",
       "0    Asus         3.830296        16               512    11.185147  2.641094   \n",
       "1    Acer         2.912833         4              1000    11.311372  3.260012   \n",
       "2  Lenovo         3.241627         4               256    11.853023  2.029061   \n",
       "3    Acer         3.806248        16               512    12.280360  4.573865   \n",
       "4    Acer         3.268097        32              1000    14.990877  4.193472   \n",
       "\n",
       "          Price  \n",
       "0  17395.093065  \n",
       "1  31607.605919  \n",
       "2   9291.023542  \n",
       "3  17436.728334  \n",
       "4  32917.990718  "
      ]
     },
     "execution_count": 3,
     "metadata": {},
     "output_type": "execute_result"
    }
   ],
   "source": [
    "import pandas as pd\n",
    "from sklearn.model_selection import train_test_split\n",
    "\n",
    "file_path = 'Laptop_price.csv' \n",
    "df = pd.read_csv(file_path)\n",
    "X = df.drop(columns=['Price'])\n",
    "y = df['Price']\n",
    "X_train, X_test, y_train, y_test = train_test_split(X, y, test_size=0.2, random_state=42)\n",
    "\n",
    "# Вывод первых строк данных\n",
    "df.head()"
   ]
  },
  {
   "cell_type": "code",
   "execution_count": 7,
   "id": "26bc19c8",
   "metadata": {},
   "outputs": [
    {
     "name": "stdout",
     "output_type": "stream",
     "text": [
      "Mean Squared Error: 42580.64330033169\n",
      "Предсказания загруженной модели: [10548.079  31427.553   9632.67    9237.194  31953.426  31646.098\n",
      " 10553.304  16754.592  18470.611  32379.545   9984.597  10745.556\n",
      " 32805.45    9098.023  17196.752   9118.695  32062.451  32225.709\n",
      " 10239.446  31767.838  10555.461  10706.844   9144.038  10418.951\n",
      "  9426.13   17504.607  10596.327  18269.44   10714.91   32575.307\n",
      " 16636.7    32787.957  16652.057  31941.846  31740.14   10446.912\n",
      " 31143.08    9128.383  32598.557  17304.166  32060.291   9598.175\n",
      " 17628.68   31691.955  17339.125  16987.414  32676.58   16907.783\n",
      "  9703.095  16994.861  16828.104  31483.943   9861.333  10501.711\n",
      " 31963.008  32802.332  31379.807  31724.8     9114.882  32293.768\n",
      " 17601.562  31440.377  31847.338  10707.018   9641.672  31855.707\n",
      " 32659.092  32420.979  31519.15    9005.247  31679.18   32602.033\n",
      " 17520.52   31663.432  17213.455  32929.688  18450.264   9129.256\n",
      " 16823.361   9534.464   9480.509  32930.69   10546.793   9790.112\n",
      " 10617.559   9476.344   8967.412  18519.281  17022.01   32235.133\n",
      " 17173.617  32539.043  32634.975   9512.258   9791.224  10493.203\n",
      " 32931.418   9324.398  16878.85    9906.729  17205.648   9492.066\n",
      " 18304.465  17021.2    10492.426   9716.888  17048.293  17617.777\n",
      "  9142.474  10522.094  10965.27   31598.842  32181.047  32868.285\n",
      " 31694.     31884.553  16821.703  10702.815   9481.4375 31811.818\n",
      " 32075.676   9106.653  10699.364  32189.629  10521.352   9635.519\n",
      " 32241.912  18626.008  17071.8     9315.323  17082.248  16768.475\n",
      " 10093.83   31508.398  32022.086   9161.81   16764.986  10877.263\n",
      " 31299.207   9458.832  31101.094  31713.352  17044.365  33038.29\n",
      " 10017.711  16387.838  31561.941   9216.386  32823.168   9380.078\n",
      "  9541.537  32072.344  17618.373   9989.966   9109.532  16917.508\n",
      "  9654.099   8926.429  16760.389  17335.586  32528.35   17367.725\n",
      "  9664.297   9511.009  31469.678  17695.041  10512.655  16959.004\n",
      " 32187.105  18079.703   9725.142   9090.228  18451.32   33105.473\n",
      "  9474.583  16932.412  10558.521  16800.29   10557.773  32720.39\n",
      " 16854.701  17568.959  31454.361  17338.867  10701.943   9201.653\n",
      " 17533.875  31190.553  31349.602  18219.307  32778.895   9957.214\n",
      " 17693.434  16908.768  31679.38   18357.795   9097.698  10790.825\n",
      " 33174.414  18079.168 ]\n"
     ]
    }
   ],
   "source": [
    "from sklearn.pipeline import Pipeline\n",
    "from sklearn.compose import ColumnTransformer\n",
    "from sklearn.preprocessing import StandardScaler, OneHotEncoder\n",
    "from sklearn.impute import SimpleImputer\n",
    "from xgboost import XGBRegressor\n",
    "import joblib\n",
    "from sklearn.metrics import mean_squared_error\n",
    "from sklearn.ensemble import RandomForestRegressor\n",
    "\n",
    "num_features = X.select_dtypes(include=['int64', 'float64']).columns.tolist()\n",
    "cat_features = X.select_dtypes(include=['object']).columns.tolist()\n",
    "\n",
    "num_transformer = Pipeline([\n",
    "    ('imputer', SimpleImputer(strategy='median')),\n",
    "    ('scaler', StandardScaler())\n",
    "])\n",
    "\n",
    "cat_transformer = Pipeline([\n",
    "    ('imputer', SimpleImputer(strategy='most_frequent')),\n",
    "    ('encoder', OneHotEncoder(handle_unknown='ignore'))\n",
    "])\n",
    "\n",
    "preprocessor = ColumnTransformer([\n",
    "    ('num', num_transformer, num_features),\n",
    "    ('cat', cat_transformer, cat_features)\n",
    "])\n",
    "\n",
    "pipeline = Pipeline([\n",
    "    ('preprocessor', preprocessor),\n",
    "    ('model', XGBRegressor(n_estimators=100, learning_rate=0.1, max_depth=5))\n",
    "])\n",
    "\n",
    "pipeline.fit(X_train, y_train)\n",
    "joblib.dump(pipeline, 'laptop_price_model.pkl')\n",
    "\n",
    "\n",
    "\n",
    "# Проверка модели\n",
    "y_pred = pipeline.predict(X_test)\n",
    "mse = mean_squared_error(y_test, y_pred)\n",
    "print(f\"Mean Squared Error: {mse}\")\n",
    "\n",
    "# Загрузка модели и проверка\n",
    "loaded_model = joblib.load('laptop_price_model.pkl')\n",
    "y_pred_loaded = loaded_model.predict(X_test)\n",
    "print(\"Предсказания загруженной модели:\", y_pred_loaded)"
   ]
  },
  {
   "cell_type": "code",
   "execution_count": null,
   "id": "cd5f4bf5",
   "metadata": {},
   "outputs": [],
   "source": []
  },
  {
   "cell_type": "code",
   "execution_count": null,
   "id": "cbfc4427",
   "metadata": {},
   "outputs": [],
   "source": []
  },
  {
   "cell_type": "markdown",
   "id": "e903e1c2",
   "metadata": {},
   "source": [
    "# GIT\n"
   ]
  },
  {
   "cell_type": "markdown",
   "id": "e8c96b64",
   "metadata": {},
   "source": [
    "#### Инициализация репозитория и отправка кода на GitHub"
   ]
  },
  {
   "cell_type": "code",
   "execution_count": 8,
   "id": "f3caa46d",
   "metadata": {},
   "outputs": [
    {
     "name": "stdout",
     "output_type": "stream",
     "text": [
      "Initialized empty Git repository in D:/fs/lab_1_fs/.git/\n"
     ]
    },
    {
     "name": "stderr",
     "output_type": "stream",
     "text": [
      "warning: in the working copy of 'Laptop_price.csv', LF will be replaced by CRLF the next time Git touches it\n",
      "warning: in the working copy of 'lab_1_fs.ipynb', LF will be replaced by CRLF the next time Git touches it\n"
     ]
    },
    {
     "name": "stdout",
     "output_type": "stream",
     "text": [
      "[master (root-commit) 2ed5d40] ML-pipline\n",
      " 3 files changed, 1397 insertions(+)\n",
      " create mode 100644 Laptop_price.csv\n",
      " create mode 100644 lab_1_fs.ipynb\n",
      " create mode 100644 laptop_price_model.pkl\n",
      "branch 'master' set up to track 'origin/master'.\n"
     ]
    },
    {
     "name": "stderr",
     "output_type": "stream",
     "text": [
      "To https://github.com/Petr-Zaychenko/lab_1.git\n",
      " * [new branch]      master -> master\n"
     ]
    }
   ],
   "source": [
    "!git init\n",
    "!git add .\n",
    "!git commit -m \"ML-pipline\"\n",
    "!git remote add origin https://github.com/Petr-Zaychenko/lab_1.git\n",
    "!git push -u origin master"
   ]
  },
  {
   "cell_type": "markdown",
   "id": "2416b529",
   "metadata": {},
   "source": [
    "# FASTAPI"
   ]
  },
  {
   "cell_type": "code",
   "execution_count": 9,
   "id": "3e07b4d5",
   "metadata": {},
   "outputs": [
    {
     "name": "stdout",
     "output_type": "stream",
     "text": [
      "Writing app.py\n"
     ]
    }
   ],
   "source": [
    "%%writefile app.py\n",
    "from fastapi import FastAPI, File, UploadFile\n",
    "import pandas as pd\n",
    "import joblib\n",
    "from io import BytesIO\n",
    "\n",
    "app = FastAPI()\n",
    "\n",
    "# Загрузка обученной модели\n",
    "model_path = \"laptop_price_model.pkl\"\n",
    "model = joblib.load(model_path)\n",
    "\n",
    "@app.post(\"/predict/\")\n",
    "async def predict(file: UploadFile = File(...)):\n",
    "    content = await file.read()\n",
    "    df = pd.read_csv(BytesIO(content))\n",
    "    predictions = model.predict(df)\n",
    "    return {\"predictions\": predictions.tolist()}\n"
   ]
  },
  {
   "cell_type": "code",
   "execution_count": 17,
   "id": "baee2e54",
   "metadata": {},
   "outputs": [
    {
     "name": "stdout",
     "output_type": "stream",
     "text": [
      "Requirement already satisfied: python-multipart in .\\venv\\lib\\site-packages (0.0.20)\n",
      "Note: you may need to restart the kernel to use updated packages.\n"
     ]
    },
    {
     "name": "stderr",
     "output_type": "stream",
     "text": [
      "\n",
      "[notice] A new release of pip is available: 24.0 -> 25.1.1\n",
      "[notice] To update, run: python.exe -m pip install --upgrade pip\n"
     ]
    },
    {
     "name": "stdout",
     "output_type": "stream",
     "text": [
      "^C\n",
      "API доступно по адресу: NgrokTunnel: \"https://bad2-193-187-173-210.ngrok-free.app\" -> \"http://localhost:8000\"\n"
     ]
    }
   ],
   "source": [
    "# Установка python-multipart для корректной работы FastAPI\n",
    "%pip install python-multipart\n",
    "\n",
    "# Запуск FastAPI\n",
    "!uvicorn app:app --reload\n",
    "\n",
    "# Подключение ngrok\n",
    "from pyngrok import ngrok\n",
    "\n",
    "# Укажите ваш токен ngrok\n",
    "ngrok.set_auth_token(\"2wd5cydMgehF5yut5Zvk1JmccHi_4NcqEwFGqnpbeYm2H6YuC\")\n",
    "\n",
    "# Создание туннеля для порта 8000\n",
    "public_url = ngrok.connect(8000)\n",
    "print(\"API доступно по адресу:\", public_url)"
   ]
  },
  {
   "cell_type": "markdown",
   "id": "eaec805b",
   "metadata": {},
   "source": [
    "curl -X 'POST' \\\n",
    "  'http://localhost:8000/predict/' \\\n",
    "  -H 'accept: application/json' \\\n",
    "  -H 'Content-Type: multipart/form-data' \\\n",
    "  -F 'file=@Laptop_price.csv;type=text/csv'"
   ]
  },
  {
   "cell_type": "markdown",
   "id": "cb78914e",
   "metadata": {},
   "source": [
    " content-length: 15043 \n",
    " content-type: application/json \n",
    " date: Sun,04 May 2025 16:13:00 GMT \n",
    " server: uvicorn "
   ]
  }
 ],
 "metadata": {
  "kernelspec": {
   "display_name": "venv",
   "language": "python",
   "name": "python3"
  },
  "language_info": {
   "codemirror_mode": {
    "name": "ipython",
    "version": 3
   },
   "file_extension": ".py",
   "mimetype": "text/x-python",
   "name": "python",
   "nbconvert_exporter": "python",
   "pygments_lexer": "ipython3",
   "version": "3.11.9"
  }
 },
 "nbformat": 4,
 "nbformat_minor": 5
}
